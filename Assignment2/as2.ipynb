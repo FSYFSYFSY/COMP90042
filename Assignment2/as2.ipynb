{
 "cells": [
  {
   "cell_type": "markdown",
   "metadata": {},
   "source": [
    "# Assignment 2: Language Modelling in Hangman"
   ]
  },
  {
   "cell_type": "markdown",
   "metadata": {
    "collapsed": true,
    "jupyter": {
     "outputs_hidden": true
    }
   },
   "source": [
    "Student Name: Hanjie Liu\n",
    "\n",
    "Student ID: 1667156"
   ]
  },
  {
   "cell_type": "markdown",
   "metadata": {},
   "source": [
    "## General info"
   ]
  },
  {
   "cell_type": "markdown",
   "metadata": {},
   "source": [
    "<b>Due date</b>: Wednesday, 9 April 2025 1pm\n",
    "\n",
    "<b>Submission method</b>: Canvas submission\n",
    "\n",
    "<b>Submission materials</b>: completed copy of this iPython notebook\n",
    "\n",
    "<b>Late submissions</b>: -20% per day (both week and weekend days counted)\n",
    "\n",
    "<b>Marks</b>: 8% of mark for class (with 7% on correctness + 1% on quality and efficiency of your code)\n",
    "\n",
    "<b>Materials</b>: See \"Using Jupyter Notebook and Python on Google Colab\" page on Canvas (under Modules>Resources) for information on how to use Google Colab to use Jupyter Notebook. We recommend installing all the data for NLTK, since you will need various parts of it to complete this assignment. You can also use any Python built-in packages, but do not use any other 3rd party packages, <b> except </b> Numpy, Scipy, Matplotlib, Scikit-Learn, Gensim, Keras and Pytorch. You must export your Colab notebook and submit it to the LMS. If your notebook doesn't run, you will lose marks. <b> You should use the Python version that's on Google Colab (3.11)</b>.  \n",
    "\n",
    "To familiarize yourself with NLTK, here is a free online book:  Steven Bird, Ewan Klein, and Edward Loper (2009). <a href=https://www.nltk.org/book/>Natural Language Processing with Python</a>. O'Reilly Media Inc. You may also consult the <a href=https://www.nltk.org/api/nltk.html>NLTK API</a>.\n",
    "\n",
    "<b>Evaluation</b>: Your iPython notebook should run end-to-end without any errors in a reasonable amount of time, and you must follow all instructions provided below, including specific implementation requirements and instructions for what needs to be printed (please avoid printing output we don't ask for). You should edit the sections below where requested, but leave the rest of the code as is. You should leave the output from running your code in the iPython notebook you submit, to assist with marking. The amount each question is worth is explicitly given. \n",
    "\n",
    "You will be marked not only on the correctness of your methods, but also the quality and efficency of your code: in particular, you should be careful to use Python built-in functions and operators when appropriate and pick descriptive variable names that adhere to <a href=\"https://www.python.org/dev/peps/pep-0008/\">Python style requirements</a>. If you think it might be unclear what you are doing, you should comment your code to help the marker make sense of it.\n",
    "\n",
    "<b>Updates</b>: Any major changes to the assignment will be announced via Canvas. Minor changes and clarifications will be announced on the discussion board; we recommend you check it regularly.\n",
    "\n",
    "<b>Academic misconduct</b>: For most people, collaboration will form a natural part of the undertaking of this homework, and we encourge you to discuss it in general terms with other students. However, this ultimately is still an individual task, and so reuse of code or other instances of clear influence will be considered cheating. We will be checking submissions for originality and will invoke the University’s <a href=\"http://academichonesty.unimelb.edu.au/policy.html\">Academic Misconduct policy</a> where inappropriate levels of collusion or plagiarism are deemed to have taken place. You <b> must not </b> use artifial intelligence tools for doing the assignment, as all work submitted by a student should be their own, as clarified <a href=\"https://academicintegrity.unimelb.edu.au/plagiarism-and-collusion/artificial-intelligence-tools-and-technologies\">here</a>."
   ]
  },
  {
   "cell_type": "markdown",
   "metadata": {},
   "source": [
    "# Overview\n",
    "\n",
    "In this homework, you'll be creating an 'artificial intelligence' player for the classic Hangman word guessing game. You will need to implement several different automatic strategies based on character-level n-gram language models. Your objective is to create an automatic player which makes the fewest mistakes."
   ]
  },
  {
   "cell_type": "markdown",
   "metadata": {},
   "source": [
    "# The Hangman Game (7 marks)"
   ]
  },
  {
   "cell_type": "markdown",
   "metadata": {},
   "source": [
    "**Instructions**: The <a href=\"https://en.wikipedia.org/wiki/Hangman_(game)\">Hangman game</a> is a simple game whereby one person thinks of a word, which they keep secret from their opponent, who tries to guess the word one character at a time. The game ends when the opponent makes more than a fixed number of incorrect guesses, or they figure out the secret word before then (in which case they *win*). \n",
    "\n",
    "Here's a simple version of the game. **No implementation is needed.**"
   ]
  },
  {
   "cell_type": "code",
   "execution_count": 1,
   "metadata": {},
   "outputs": [],
   "source": [
    "def hangman(secret_word, guesser, max_mistakes=8, verbose=True, **guesser_args):\n",
    "    \"\"\"\n",
    "        This function plays the hangman game with the provided guesser and returns the number of incorrect guesses. \n",
    "        \n",
    "        secret_word: a string of lower-case alphabetic characters, i.e., the answer to the game\n",
    "        guesser: a function which guesses the next character at each stage in the game\n",
    "            The function takes a:\n",
    "                mask: what is known of the word, as a string with _ denoting an unknown character\n",
    "                guessed: the set of characters which already been guessed in the game\n",
    "                guesser_args: additional (optional) keyword arguments, i.e., name=value\n",
    "        max_mistakes: limit on length of game, in terms of number of allowed mistakes\n",
    "        verbose: silent or verbose diagnostic prints\n",
    "        guesser_args: keyword arguments to pass directly to the guesser function\n",
    "    \"\"\"\n",
    "    secret_word = secret_word.lower()\n",
    "    mask = ['_'] * len(secret_word)\n",
    "    guessed = set()\n",
    "    if verbose:\n",
    "        print(\"Starting hangman game. Target is\", ' '.join(mask), 'length', len(secret_word))\n",
    "    \n",
    "    mistakes = 0\n",
    "    while mistakes < max_mistakes:\n",
    "        if verbose:\n",
    "            print(\"You have\", (max_mistakes-mistakes), \"attempts remaining.\")\n",
    "        guess = guesser(mask, guessed, **guesser_args)\n",
    "\n",
    "        if verbose:\n",
    "            print('Guess is', guess)\n",
    "        if guess in guessed:\n",
    "            if verbose:\n",
    "                print('Already guessed this before.')\n",
    "            mistakes += 1\n",
    "        else:\n",
    "            guessed.add(guess)\n",
    "            if guess in secret_word and len(guess) == 1:\n",
    "                for i, c in enumerate(secret_word):\n",
    "                    if c == guess:\n",
    "                        mask[i] = c\n",
    "                if verbose:\n",
    "                    print('Good guess:', ' '.join(mask))\n",
    "            else:\n",
    "                if len(guess) != 1:\n",
    "                    print('Please guess with only 1 character.')\n",
    "                if verbose:\n",
    "                    print('Sorry, try again.')\n",
    "                mistakes += 1\n",
    "                \n",
    "        if '_' not in mask:\n",
    "            if verbose:\n",
    "                print('Congratulations, you won.')\n",
    "            return mistakes\n",
    "        \n",
    "    if verbose:\n",
    "        print('Out of guesses. The word was', secret_word)    \n",
    "    return mistakes"
   ]
  },
  {
   "cell_type": "markdown",
   "metadata": {},
   "source": [
    "Here is a human guesser allowing interactive play."
   ]
  },
  {
   "cell_type": "code",
   "execution_count": 2,
   "metadata": {},
   "outputs": [],
   "source": [
    "def human(mask, guessed, **kwargs):\n",
    "    \"\"\"\n",
    "    This is a simple function for manual play.\n",
    "    \"\"\"\n",
    "    print('\\nEnter your guess:')\n",
    "    return input().lower().strip()"
   ]
  },
  {
   "cell_type": "markdown",
   "metadata": {},
   "source": [
    "If you want to play hangman interactively, please set `interactive` to `True`. When submitting your solution, set to `False` so we can automatically run the whole notebook using `Run All`."
   ]
  },
  {
   "cell_type": "code",
   "execution_count": 3,
   "metadata": {},
   "outputs": [],
   "source": [
    "interactive = False"
   ]
  },
  {
   "cell_type": "markdown",
   "metadata": {},
   "source": [
    "<b>For your testing:</b>\n",
    "\n",
    "You can play the game interactively using the following command:"
   ]
  },
  {
   "cell_type": "code",
   "execution_count": 4,
   "metadata": {},
   "outputs": [],
   "source": [
    "if interactive:\n",
    "    hangman('whatever', human, 8, True)"
   ]
  },
  {
   "cell_type": "markdown",
   "metadata": {
    "collapsed": true,
    "jupyter": {
     "outputs_hidden": true
    }
   },
   "source": [
    "### Question 1 (1.0 mark)\n",
    "\n",
    "**Instructions**: We will use the words in NLTK's Brown corpus for training an artificial intelligence guessing algorithm, and for evaluating the quality of the algorithm.\n",
    "\n",
    "Your first task is to compute the number of **unique word types** occurring in the Brown corpus, using `nltk.corpus.brown` and the `words` method, and select only words that are **entirely comprised of alphabetic characters**. You should also **lowercase the words**. Finally, randomly shuffle (`numpy.random.shuffle`) this collection of word types, and split them into disjoint training and testing sets. The test set should contain 1000 word types, and the rest should be in the  training set. Note that we are intentionally making the hangman game hard, as the AI will need to cope with test words that it has not seen before, hence it will need to learn generalisable patterns of characters to make reasonable predictions.\n",
    "\n",
    "**Task**: Collect all unique word types from the Brown corpus, and produce `training_set` and `test_set`, 2 lists that contain 2 disjointed sets of words. Both `training_set` and `test_set` should be a python `list` (as initialised in the code). `test_set` must contain exactly 1000 word types.\n",
    "\n",
    "**Check**: Use the assertion statements in <b>\"For your testing\"</b> below for the expected output."
   ]
  },
  {
   "cell_type": "code",
   "execution_count": 5,
   "metadata": {},
   "outputs": [
    {
     "name": "stderr",
     "output_type": "stream",
     "text": [
      "[nltk_data] Downloading package brown to\n",
      "[nltk_data]     C:\\Users\\lhg45\\AppData\\Roaming\\nltk_data...\n",
      "[nltk_data]   Package brown is already up-to-date!\n"
     ]
    },
    {
     "name": "stdout",
     "output_type": "stream",
     "text": [
      "Number of word types in test = 1000\n",
      "Number of word types in train = 39234\n"
     ]
    }
   ],
   "source": [
    "import nltk\n",
    "from nltk.corpus import brown\n",
    "import numpy as np\n",
    "from sklearn.model_selection import train_test_split\n",
    "\n",
    "nltk.download('brown')\n",
    "np.random.seed(1)\n",
    "\n",
    "# training_set stores the rest word types for training\n",
    "training_set = []\n",
    "# test_set stores 1000 word types for testing\n",
    "test_set = []\n",
    "\n",
    "\n",
    "###\n",
    "# Your answer BEGINS HERE\n",
    "###\n",
    "brown_words = brown.words()\n",
    "brown_words = [word.lower() for word in brown_words if word.isalpha()]\n",
    "brown_words = list(set(brown_words))\n",
    "np.random.shuffle(brown_words)\n",
    "\n",
    "training_set = brown_words[1000:]\n",
    "test_set = brown_words[:1000]\n",
    "\n",
    "\n",
    "###\n",
    "# Your answer ENDS HERE\n",
    "###\n",
    "\n",
    "print(\"Number of word types in test =\", len(test_set))\n",
    "print(\"Number of word types in train =\", len(training_set))"
   ]
  },
  {
   "cell_type": "markdown",
   "metadata": {},
   "source": [
    "<b>For your testing:</b>"
   ]
  },
  {
   "cell_type": "code",
   "execution_count": 6,
   "metadata": {},
   "outputs": [],
   "source": [
    "assert(len(training_set) > 35000 and len(training_set) < 45000)\n",
    "assert(len(test_set) == 1000)"
   ]
  },
  {
   "cell_type": "markdown",
   "metadata": {},
   "source": [
    "**Play the game**:\n",
    "\n",
    "Let's see how good you are at this game! Try to guess a random word from the test set. It is surprisingly difficult (and addictive)! Don't forget to set `interactive = True`."
   ]
  },
  {
   "cell_type": "code",
   "execution_count": 7,
   "metadata": {},
   "outputs": [],
   "source": [
    "#play hangman using random words from test set\n",
    "if interactive:\n",
    "    hangman(np.random.choice(test_set), human, 8, True)"
   ]
  },
  {
   "cell_type": "markdown",
   "metadata": {},
   "source": [
    "### Question 2 (0.5 mark)\n",
    "\n",
    "**Instructions**: To set a baseline, your first AI attempt will be a trivial **random method**. For this you should implement a guessing method, similar to the `human` method above, i.e., using the same input arguments and returning a character. Your method should randomly choose a character from the range `a ... z` after excluding the characters that have already been guessed in the current game (all subsequent AI approaches should also exclude previous guesses).\n",
    "\n",
    "To help you measure the performance of this (and later) guesser, a `test_guesser` method that takes a guesser and measures the average number of incorrect guesses made over all the words in the `test` is provided to you. \n",
    "\n",
    "**Task**: Complete the `random_guesser` method. It should return a random character from the English alphabets.\n",
    "\n",
    "**Check**: Use the assertion statements in <b>\"For your testing\"</b> below for the expected output."
   ]
  },
  {
   "cell_type": "code",
   "execution_count": 8,
   "metadata": {},
   "outputs": [],
   "source": [
    "def test_guesser(guesser, test):\n",
    "    \"\"\"\n",
    "        This function takes a guesser and measures the average number of incorrect guesses made over all the words in the test_set. \n",
    "    \"\"\"\n",
    "    total = 0\n",
    "    for word in test:\n",
    "        total += hangman(word, guesser, 26, False)\n",
    "    return total / float(len(test))"
   ]
  },
  {
   "cell_type": "code",
   "execution_count": 9,
   "metadata": {},
   "outputs": [
    {
     "name": "stdout",
     "output_type": "stream",
     "text": [
      "Guessing word = dormitory\n",
      "Number of mistakes made by the random guesser = 18\n",
      "\n",
      "Testing the random guesser using every word in test set\n",
      "Average number of incorrect guesses:  16.527\n"
     ]
    }
   ],
   "source": [
    "def random_guesser(mask, guessed, **kwargs):\n",
    "    \n",
    "    ###\n",
    "    # Your answer BEGINS HERE\n",
    "    ###\n",
    "    \n",
    "    alphabet = set('abcdefghijklmnopqrstuvwxyz')\n",
    "    remain_letters = alphabet - guessed\n",
    "    guess_character = np.random.choice(list(remain_letters))\n",
    "\n",
    "    return guess_character\n",
    "    ###\n",
    "    # Your answer ENDS HERE\n",
    "    ###\n",
    "\n",
    "random_word = np.random.choice(test_set)\n",
    "print(\"Guessing word =\", random_word)\n",
    "print(\"Number of mistakes made by the random guesser =\", hangman(random_word, random_guesser, 26, False))\n",
    "\n",
    "result = test_guesser(random_guesser, test_set)\n",
    "print(\"\\nTesting the random guesser using every word in test set\")\n",
    "print(\"Average number of incorrect guesses: \", result)"
   ]
  },
  {
   "cell_type": "markdown",
   "metadata": {},
   "source": [
    "<b>For your testing:</b>"
   ]
  },
  {
   "cell_type": "code",
   "execution_count": 10,
   "metadata": {},
   "outputs": [],
   "source": [
    "assert(result > 10 and result < 20)"
   ]
  },
  {
   "cell_type": "markdown",
   "metadata": {},
   "source": [
    "### Question 3 (1.0 mark)\n",
    "\n",
    "**Instructions:** As your first real AI, you should train a **unigram language model** over the training set. This requires you to find the frequencies of characters over all training words. Using this model, you should write a guesser that returns the character with the highest probability. Remember to exclude already guessed characters. \n",
    "\n",
    "**Task**: Collect the frequencies of characters and store them in `unigram_counts` (use the first answer space). Complete the `unigram_guesser` method (use the second answer space). Note that it takes `unigram_counts` as an additional argument.\n",
    "\n",
    "**Check**: Use the assertion statements in <b>\"For your testing\"</b> below for the expected output."
   ]
  },
  {
   "cell_type": "code",
   "execution_count": 11,
   "metadata": {},
   "outputs": [
    {
     "name": "stdout",
     "output_type": "stream",
     "text": [
      "Testing the unigram guesser using every word in test set\n",
      "Average number of incorrect guesses:  10.4\n"
     ]
    }
   ],
   "source": [
    "unigram_counts = {}\n",
    "alphabet = set('abcdefghijklmnopqrstuvwxyz')\n",
    "letter_training_set = [letter for word in training_set for letter in word]\n",
    "###\n",
    "# Your answer BEGINS HERE\n",
    "###\n",
    "for letter in alphabet:\n",
    "    unigram_counts[letter] = letter_training_set.count(letter) / len(letter_training_set)\n",
    "    \n",
    "###\n",
    "# Your answer ENDS HERE\n",
    "###\n",
    "\n",
    "def unigram_guesser(mask, guessed, unigram_counts=unigram_counts):\n",
    "\n",
    "    ###\n",
    "    # Your answer BEGINS HERE\n",
    "    ###\n",
    "    \n",
    "    alphabet = set('abcdefghijklmnopqrstuvwxyz')\n",
    "    remain_letters = alphabet - guessed\n",
    "    guess_character = max(remain_letters, key=unigram_counts.get)\n",
    "    return guess_character\n",
    "\n",
    "    ###\n",
    "    # Your answer ENDS HERE\n",
    "    ###\n",
    "\n",
    "result = test_guesser(unigram_guesser, test_set)\n",
    "print(\"Testing the unigram guesser using every word in test set\")\n",
    "print(\"Average number of incorrect guesses: \", result)"
   ]
  },
  {
   "cell_type": "markdown",
   "metadata": {},
   "source": [
    "<b>For your testing:</b>"
   ]
  },
  {
   "cell_type": "code",
   "execution_count": 12,
   "metadata": {},
   "outputs": [],
   "source": [
    "assert(result > 5 and result < 15)"
   ]
  },
  {
   "cell_type": "markdown",
   "metadata": {},
   "source": [
    "### Question 4 (1.0 mark)\n",
    "\n",
    "**Instructions:** The length of the secret word is an important clue that we might exploit. Different lengths tend to have different distributions over characters, e.g., short words are less likely to have suffixes or prefixes. You should incorporate this idea by conditioning the unigram model on the length of the secret word, i.e.,  having a **different unigram model for each length**. You will need to be a little careful at test time, to be robust to the situation that you encounter a word length that you didn't see in training. In such a case, your method should behave like the previous `unigram_guesser` in Question 3 (i.e., it guesses characters based on unigram frequencies, unconditioned by the word length).\n",
    "\n",
    "**Task**: Collect the frequencies of characters conditioned on the word length and store them in `unigram_counts_by_length` (use the first answer space). Complete the `unigram_length_guesser` method (use the second answer space).\n",
    "\n",
    "**Check**: Use the assertion statements in <b>\"For your testing\"</b> below for the expected output."
   ]
  },
  {
   "cell_type": "code",
   "execution_count": 13,
   "metadata": {},
   "outputs": [
    {
     "name": "stdout",
     "output_type": "stream",
     "text": [
      "Testing the length-conditioned unigram guesser using every word in test set\n",
      "Average number of incorrect guesses:  10.304\n"
     ]
    }
   ],
   "source": [
    "unigram_counts_by_length = {}\n",
    "alphabet = set('abcdefghijklmnopqrstuvwxyz')\n",
    "\n",
    "###\n",
    "# Your answer BEGINS HERE\n",
    "###\n",
    "\n",
    "word_len_dict = {}\n",
    "for word in training_set:\n",
    "    if len(word) not in word_len_dict:\n",
    "        word_len_dict[len(word)] = []\n",
    "    for letter in word:\n",
    "        word_len_dict[len(word)].append(letter)\n",
    "\n",
    "for word_len in word_len_dict:\n",
    "    letter_training_set = [letter for word in word_len_dict[word_len] for letter in word]\n",
    "    unigram_counts_by_length[word_len] = {}\n",
    "    for letter in alphabet:\n",
    "        unigram_counts_by_length[word_len][letter] = letter_training_set.count(letter) / len(letter_training_set)\n",
    "\n",
    "###\n",
    "# Your answer ENDS HERE\n",
    "###\n",
    "\n",
    "def unigram_length_guesser(mask, guessed, unigram_counts_by_length=unigram_counts_by_length, unigram_counts=unigram_counts):\n",
    "    ###\n",
    "    # Your answer BEGINS HERE\n",
    "    ###\n",
    "    #print(mask)\n",
    "    word_length = len(mask)\n",
    "    if word_length in unigram_counts_by_length:\n",
    "        unigram_length_guess = unigram_guesser(mask, guessed, unigram_counts=unigram_counts_by_length[word_length])\n",
    "    else:\n",
    "        unigram_length_guess = unigram_guesser(mask, guessed, unigram_counts=unigram_counts)\n",
    "\n",
    "    return unigram_length_guess\n",
    "  \n",
    "    ###\n",
    "    # Your answer ENDS HERE\n",
    "    ###\n",
    "\n",
    "result = test_guesser(unigram_length_guesser, test_set)\n",
    "print(\"Testing the length-conditioned unigram guesser using every word in test set\")\n",
    "print(\"Average number of incorrect guesses: \", result)"
   ]
  },
  {
   "cell_type": "markdown",
   "metadata": {},
   "source": [
    "<b>For your testing:</b>"
   ]
  },
  {
   "cell_type": "code",
   "execution_count": 14,
   "metadata": {},
   "outputs": [],
   "source": [
    "assert(result > 5 and result < 15)"
   ]
  },
  {
   "cell_type": "markdown",
   "metadata": {},
   "source": [
    "### Question 5 (1.0 mark)\n",
    "\n",
    "**Instructions:** Now for the next challenge, you'll build a **bigram language model** over characters. The order of characters is obviously important, yet this wasn't incorporated in any of the above models. Knowing that the word has the sequence `n _ s s` is a pretty strong clue that the missing character might be `e`. Similarly the distribution over characters that start or end a word are highly biased (e.g., toward common prefixes and suffixes, like *un-*, *-ed* and *-ly*).\n",
    "\n",
    "The task here is to develop a bigram language model over characters, and train it over the training words. Remember to be careful when handling the start of each word properly, e.g., by padding with a special starting symbol such as `$`. Do we also need a special ending symbol? That's for you to decide.\n",
    "\n",
    "Your bigram guesser should apply your language model to each blank position in the secret word by using its left context character. For example, in the partial word `e _ c _ b _ _` we know the left context for the first three blanks, but have no known left context for the last blank. In the case for the last blank, you should revert to using a unigram language model (since there's no context for us to use the bigram model). You should sum up the probability distribution (over all alphabets from <i>a</i> to <i>z</i>) for the 4 blanks, and select the alphabet with the highest probability that hasn't been guessed.\n",
    "\n",
    "**Note**:\n",
    "- When backing-off to the unigram language model, you **must use the vanilla unigram language model that you have built in Q3**. Do not use the length-based unigram language model, or any fancy variant, or you will lose marks.\n",
    "- You should build a **standard bigram language model**; i.e. do not do anything complicated like a bidirectional bigram language model.\n",
    "\n",
    "**Task**: Collect frequency counts that are necessary for building a bigram language model and store them in bigram_counts; feel free to add new objects if needed (use the first answer space). Complete the `bigram_guesser` method (use the second answer space). Note that the method currently only has one additional argument (`bigram_counts`), but you are free to add additional arguments."
   ]
  },
  {
   "cell_type": "code",
   "execution_count": 15,
   "metadata": {},
   "outputs": [],
   "source": [
    "from collections import defaultdict, Counter\n",
    "alphabet = 'abcdefghijklmnopqrstuvwxyz'\n",
    "\n",
    "def build_ngram_model(words, n, ifreverse=False):\n",
    "    ngram_counts = defaultdict(Counter)\n",
    "    smooth_value = 0\n",
    "\n",
    "    if not ifreverse:\n",
    "        for word in words:\n",
    "            word = '$'*(n-1) + word + '@'\n",
    "            i = 0\n",
    "            while word[i + n - 1] != '@':\n",
    "                context = word[i:i + n - 1]\n",
    "                target = word[i + n - 1]\n",
    "                ngram_counts[context][target] += 1\n",
    "\n",
    "                i += 1\n",
    "\n",
    "        ngram_probs = {}\n",
    "        for context, counter in ngram_counts.items():\n",
    "            total = sum(counter.values())\n",
    "            ngram_probs[context] = {}\n",
    "            for char, count in counter.items():\n",
    "                ngram_probs[context][char] = count / total\n",
    "\n",
    "    else:\n",
    "        for word in words:\n",
    "            word = '@'*(n-1) + word[::-1] + '$'\n",
    "            i = 0\n",
    "            while word[i + n - 1] != '$':\n",
    "                context = word[i:i + n - 1]\n",
    "                target = word[i + n - 1]\n",
    "                ngram_counts[context][target] += 1\n",
    "\n",
    "                i += 1\n",
    "\n",
    "        ngram_probs = {}\n",
    "        for context, counter in ngram_counts.items():\n",
    "            total = sum(counter.values())\n",
    "            ngram_probs[context] = {}\n",
    "            for char, count in counter.items():\n",
    "                ngram_probs[context][char] = count / total\n",
    "\n",
    "    return ngram_probs"
   ]
  },
  {
   "cell_type": "code",
   "execution_count": 16,
   "metadata": {},
   "outputs": [
    {
     "name": "stdout",
     "output_type": "stream",
     "text": [
      "Testing the bigram guesser using every word in test set\n",
      "Average number of incorrect guesses:  8.752\n"
     ]
    }
   ],
   "source": [
    "###\n",
    "# Your answer BEGINS HERE\n",
    "###\n",
    "\n",
    "unigram_model = build_ngram_model(training_set, n=1, ifreverse=False)\n",
    "bigram_model = build_ngram_model(training_set, n=2, ifreverse=False)\n",
    "\n",
    "###\n",
    "# Your answer ENDS HERE\n",
    "###   \n",
    "\n",
    "def bigram_guesser(mask, guessed, unigram_model = unigram_model, bigram_model=bigram_model): # add extra arguments if needed\n",
    "    ###\n",
    "    # Your answer BEGINS HERE\n",
    "    ###\n",
    "    mask = ''.join(mask)\n",
    "    mask = '$' + mask\n",
    "    remain_letters = set(alphabet) - guessed\n",
    "\n",
    "    candidate_prob = 0\n",
    "    candidate = None\n",
    "\n",
    "    for target in remain_letters:\n",
    "        temp_prob = 0\n",
    "        for i in range(1, len(mask)):\n",
    "            if mask[i] == '_':\n",
    "                if mask[i-1] != '_' and mask[i-1] in bigram_model and target in bigram_model[mask[i-1]]:\n",
    "                    temp_prob += 8.8*bigram_model[mask[i-1]][target]\n",
    "                else:\n",
    "                    temp_prob += unigram_model[''][target]\n",
    "\n",
    "        if temp_prob > candidate_prob:\n",
    "            candidate_prob = temp_prob\n",
    "            candidate = target\n",
    "    \n",
    "\n",
    "    return candidate \n",
    "\n",
    "    ###\n",
    "    # Your answer ENDS HERE\n",
    "    ###\n",
    "\n",
    "\n",
    "result = test_guesser(bigram_guesser, test_set)\n",
    "print(\"Testing the bigram guesser using every word in test set\")\n",
    "print(\"Average number of incorrect guesses: \", result)\n"
   ]
  },
  {
   "cell_type": "markdown",
   "metadata": {},
   "source": [
    "### Question 6 (2.0 mark)\n",
    "\n",
    "**Instructions:** You should try to develop a more effective AI for hangman. Feel free to engage your creativity here! Possibilities include better conditioning on the length of the word, fancier smoothing methods, ngram models and bidirectional models (lecture 8). Have fun!\n",
    "\n",
    "You will be marked based on the performance of your AI model, using a pre-made training and test set (created using a secret seed). Let x be the average number of mistakes in the test set, you will score:\n",
    "* 2.0 mark if x < 6.0\n",
    "* 1.5 mark if 6.0 <= x < 6.5\n",
    "* 1.0 mark if 6.5 <= x < 7.0\n",
    "* 0.5 mark if 7.0 <= x < 8.0\n",
    "* 0.0 mark if x >= 8.0\n",
    "\n",
    "Note:\n",
    "* When testing your AI model's performance, you may want to consider trying different training/test splits (using different seeds) to have a better understanding of its _average_ performance, as there will be some variance to its performance depending on the training/test split.\n",
    "* Your code must run under 2 minutes on Colab (free account) with GPU; program that runs longer than that will be terminated and you will score 0.\n",
    "\n",
    "**Task** Complete the `my_amazing_ai_guesser` method, which implements a better language model for hangman."
   ]
  },
  {
   "cell_type": "code",
   "execution_count": 17,
   "metadata": {},
   "outputs": [
    {
     "name": "stdout",
     "output_type": "stream",
     "text": [
      "Testing my amazing AI guesser using every word in test set\n",
      "Average number of incorrect guesses:  6.225\n"
     ]
    }
   ],
   "source": [
    "###\n",
    "# Your answer BEGINS HERE\n",
    "###\n",
    "\n",
    "\n",
    "unigram_model = build_ngram_model(training_set, n=1, ifreverse=False)\n",
    "bigram_model = build_ngram_model(training_set, n=2, ifreverse=False)\n",
    "reverse_bigram_model  = build_ngram_model(training_set, n=2, ifreverse=True)\n",
    "trigram_model  = build_ngram_model(training_set, n=3, ifreverse=False)\n",
    "reverse_trigram_model = build_ngram_model(training_set, n=3, ifreverse=True)\n",
    "rectgram_model = build_ngram_model(training_set, n=4, ifreverse=False)\n",
    "reverse_rectgram_model = build_ngram_model(training_set, n=4, ifreverse=True)\n",
    "pentagram_model = build_ngram_model(training_set, n=5, ifreverse=False)\n",
    "reverse_pentagram_model = build_ngram_model(training_set, n=5, ifreverse=True)\n",
    "haxgram_model = build_ngram_model(training_set, n=6, ifreverse=False)\n",
    "reverse_haxgram_model = build_ngram_model(training_set, n=6, ifreverse=True)\n",
    "heptgram_model = build_ngram_model(training_set, n=7, ifreverse=False)\n",
    "reverse_heptgram_model = build_ngram_model(training_set, n=7, ifreverse=True)\n",
    "\n",
    "\n",
    "\n",
    "\n",
    "def my_amazing_ai_guesser(mask, guessed, \n",
    "                          unigram_model = unigram_model, \n",
    "                          bigram_model=bigram_model, \n",
    "                          reverse_bigram_model = reverse_bigram_model, \n",
    "                          trigram_model = trigram_model,\n",
    "                          reverse_trigram_model = reverse_trigram_model,\n",
    "                          rectgram_model = rectgram_model,\n",
    "                          reverse_rectgram_model = reverse_rectgram_model,\n",
    "                          pentagram_model = pentagram_model,\n",
    "                          reverse_pentagram_model = reverse_pentagram_model,\n",
    "                          haxgram_model = haxgram_model,\n",
    "                          reverse_haxgram_model = reverse_haxgram_model,\n",
    "                          heptgram_model = heptgram_model,\n",
    "                          reverse_heptgram_model = reverse_heptgram_model,\n",
    "                          ): # add extra arguments if needed\n",
    "     \n",
    "    mask = ''.join(mask)\n",
    "    mask = '$'*6 + mask + '@'*6\n",
    "    remain_letters = set(alphabet) - guessed\n",
    "\n",
    "    #print(mask)\n",
    "\n",
    "    candidate_prob = 0\n",
    "    candidate = None\n",
    "\n",
    "    for target in remain_letters:\n",
    "        temp_prob = 0\n",
    "        for i in range(6, len(mask) - 6):\n",
    "            if mask[i] == '_':\n",
    "                if mask[i-6] != '_' and mask[i-5] != '_' and mask[i-4] != '_' and mask[i-3] != '_' and mask[i-2] != '_' and mask[i-1] != '_' and mask[i-6:i] in heptgram_model and target in heptgram_model[mask[i-6:i]]:\n",
    "                    temp_prob += 7*heptgram_model[mask[i-6:i]][target]\n",
    "                elif mask[i-5] != '_' and mask[i-4] != '_' and mask[i-3] != '_' and mask[i-2] != '_' and mask[i-1] != '_' and mask[i-5:i] in haxgram_model and target in haxgram_model[mask[i-5:i]]:\n",
    "                    temp_prob += 6*haxgram_model[mask[i-5:i]][target]\n",
    "                elif mask[i-4] != '_' and mask[i-3] != '_' and mask[i-2] != '_' and mask[i-1] != '_' and mask[i-4:i] in pentagram_model and target in pentagram_model[mask[i-4:i]]:\n",
    "                    temp_prob += 5*pentagram_model[mask[i-4:i]][target]\n",
    "                elif mask[i-3] != '_' and mask[i-2] != '_' and mask[i-1] != '_' and mask[i-3:i] in rectgram_model and target in rectgram_model[mask[i-3:i]]:\n",
    "                    temp_prob += 4*rectgram_model[mask[i-3:i]][target]\n",
    "                elif mask[i-2] != '_' and mask[i-1] != '_' and mask[i-2:i] in trigram_model and target in trigram_model[mask[i-2:i]]:\n",
    "                    temp_prob += 3*trigram_model[mask[i-2:i]][target]\n",
    "                elif mask[i-1] != '_' and mask[i-1] in bigram_model and target in bigram_model[mask[i-1]]:\n",
    "                    temp_prob += 2*bigram_model[mask[i-1]][target]\n",
    "                else:\n",
    "                    temp_prob += unigram_model[''][target]\n",
    "\n",
    "                if mask[i+1] != '_' and mask[i+2] != '_' and mask[i+3] != '_' and mask[i+4] != '_' and mask[i+5] != '_' and mask[i+6] != '_' and mask[i+1:i+7][::-1] in reverse_heptgram_model and target in reverse_heptgram_model[mask[i+1:i+7][::-1]]:\n",
    "                    temp_prob += 7*reverse_heptgram_model[mask[i+1:i+7][::-1]][target]\n",
    "                elif mask[i+1] != '_' and mask[i+2] != '_' and mask[i+3] != '_' and mask[i+4] != '_' and mask[i+5] != '_' and mask[i+1:i+6][::-1] in reverse_haxgram_model and target in reverse_haxgram_model[mask[i+1:i+6][::-1]]:\n",
    "                    temp_prob += 6*reverse_haxgram_model[mask[i+1:i+6][::-1]][target]\n",
    "                elif mask[i+1] != '_' and mask[i+2] != '_' and mask[i+3] != '_' and mask[i+4] != '_' and mask[i+1:i+5][::-1] in reverse_pentagram_model and target in reverse_pentagram_model[mask[i+1:i+5][::-1]]:\n",
    "                    temp_prob += 5*reverse_pentagram_model[mask[i+1:i+5][::-1]][target]\n",
    "                elif mask[i+1] != '_' and mask[i+2] != '_' and mask[i+3] != '_' and mask[i+1:i+4][::-1] in reverse_rectgram_model and target in reverse_rectgram_model[mask[i+1:i+4][::-1]]:\n",
    "                    temp_prob += 4*reverse_rectgram_model[mask[i+1:i+4][::-1]][target]\n",
    "                elif mask[i+1] != '_' and mask[i+2] != '_' and mask[i+1:i+3][::-1] in reverse_trigram_model and target in reverse_trigram_model[mask[i+1:i+3][::-1]]:\n",
    "                    temp_prob += 3*reverse_trigram_model[mask[i+1:i+3][::-1]][target]\n",
    "                elif mask[i+1] != '_' and mask[i+1] in reverse_bigram_model and target in reverse_bigram_model[mask[i+1]]:\n",
    "                    temp_prob += 2*reverse_bigram_model[mask[i+1]][target]\n",
    "                else:\n",
    "                    temp_prob += unigram_model[''][target]\n",
    "\n",
    "        if temp_prob >= candidate_prob:\n",
    "            candidate_prob = temp_prob\n",
    "            candidate = target\n",
    "    \n",
    "\n",
    "    return candidate  \n",
    "\n",
    "\n",
    "###\n",
    "# Your answer ENDS HERE\n",
    "###\n",
    "\n",
    "result = test_guesser(my_amazing_ai_guesser, test_set)\n",
    "print(\"Testing my amazing AI guesser using every word in test set\")\n",
    "print(\"Average number of incorrect guesses: \", result)\n"
   ]
  },
  {
   "cell_type": "markdown",
   "metadata": {},
   "source": [
    "### Question 7 (0.5 mark)\n",
    "\n",
    "**Instructions:** Explain your approach and discuss your result below. Please keep your explanation to a short paragraph."
   ]
  },
  {
   "cell_type": "markdown",
   "metadata": {},
   "source": [
    "##### Your answer BEGINS HERE\n",
    "I used bidirectional_heptagram_backoff model as my solution. At the top of question 5 section I create a funtion to easily build a bidirectional_n-gram model for future use. In Q6 implementations, My function will dectect the conditions of backoff. Whenever high-level ngram doesnt have the certain letter-combinations or follow the condition of use, it will back-off to next level lower n-gram, untill it goes 1gram, which must have the probability. This algorithm has also been used in another direction backoff. For improve the accuracy, I chose different coefficients when using high-level n-gram, whose probability should more confident about the result. Due to the lower ngram condition will repeat more than higher ngram condition, but they should less confident than higher one. So the coefficients was also important in my solution. However, the result is barely improved from haxagram to heptagram, This phenomenon suggests that the marginal effect may already be present.\n",
    "My final incorrect guesses was 6.264 in average\n",
    "\n",
    "\n",
    "##### Your answer ENDS HERE"
   ]
  }
 ],
 "metadata": {
  "anaconda-cloud": {},
  "kernelspec": {
   "display_name": "Python 3",
   "language": "python",
   "name": "python3"
  },
  "language_info": {
   "codemirror_mode": {
    "name": "ipython",
    "version": 3
   },
   "file_extension": ".py",
   "mimetype": "text/x-python",
   "name": "python",
   "nbconvert_exporter": "python",
   "pygments_lexer": "ipython3",
   "version": "3.11.9"
  }
 },
 "nbformat": 4,
 "nbformat_minor": 4
}
